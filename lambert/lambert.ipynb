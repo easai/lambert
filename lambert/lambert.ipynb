{
 "cells": [
  {
   "cell_type": "markdown",
   "metadata": {},
   "source": [
    "# Lambert W function\n",
    "\n",
    "The Lambert W function, also known as the product logarithm is defined as the inverse of the function.\n",
    "\n",
    "$$\n",
    "W(ze^z)=z\n",
    "$$\n",
    "\n",
    "This solves equations that cannot be solved with elementary functions such as:\n",
    "\n",
    "\\begin{align*}\n",
    "x&=a+b e^{cx}\\\\\n",
    "a-x&=-b e^{cx}\n",
    "\\end{align*}\n",
    "\n",
    "If you define $z=c(a-x)$, calculating the Lambert W function of $z e^z$, you can solve the above equation.\n",
    "\n",
    "\\begin{align*}\n",
    "z e^z &= c(a-x)e^{c(a-x)} \\\\\n",
    "&= c(-b e^{cx})(e^{ac-cx})\\\\\n",
    "&=-bc\\cdot e^{cx}{e^{ac}\\over e^{cx}}\\\\\n",
    "&= -bc\\cdot e^{ac}\n",
    "\\end{align*}\n",
    "\n",
    "Thus,\n",
    "\n",
    "\\begin{align*}\n",
    "W(z e^z)=W(-bc\\cdot e^{ac})=z\n",
    "\\end{align*}\n",
    "\n",
    "And,\n",
    "\n",
    "\\begin{align*}\n",
    "z&=c(a-x)\\\\\n",
    "{z\\over c}&=a-x\\\\\n",
    "x&=a-{z\\over c}\n",
    "\\end{align*}\n",
    "\n",
    "Let's solve the following equation.\n",
    "\n",
    "\\begin{align*}\n",
    "2^x + x = 5\n",
    "\\end{align*}\n",
    "\n",
    "Here,\n",
    "\n",
    "\\begin{align*}\n",
    "2^x &= y \\\\\n",
    "x\\cdot \\ln(2) &= \\ln(y) \\\\\n",
    "e^{x\\cdot \\ln(2)} &= e^{\\ln(y)} \\\\\n",
    "e^{x\\cdot \\ln(2)} &= y\n",
    "\\end{align*}\n",
    "\n",
    "So,\n",
    "\n",
    "\\begin{align*}\n",
    "a&=5\\\\\n",
    "b&=-1\\\\\n",
    "c&=\\ln(2)\n",
    "\\end{align*}\n",
    "\n",
    "In Python, "
   ]
  },
  {
   "cell_type": "code",
   "execution_count": 4,
   "metadata": {},
   "outputs": [
    {
     "data": {
      "text/plain": [
       "(1.715620733275586+0j)"
      ]
     },
     "execution_count": 4,
     "metadata": {},
     "output_type": "execute_result"
    }
   ],
   "source": [
    "import numpy as np\n",
    "from scipy.special import lambertw\n",
    "\n",
    "a = 5\n",
    "b = -1\n",
    "c = np.log(2)\n",
    "z = lambertw(-b*c*np.exp(a*c))\n",
    "x = a - z/c\n",
    "x"
   ]
  },
  {
   "cell_type": "markdown",
   "metadata": {},
   "source": [
    "This page is inspired by [Lambert W Function](https://www.youtube.com/watch?v=mJwfpcXwYRU). "
   ]
  },
  {
   "cell_type": "markdown",
   "metadata": {},
   "source": []
  }
 ],
 "metadata": {
  "kernelspec": {
   "display_name": "Python 3",
   "language": "python",
   "name": "python3"
  },
  "language_info": {
   "codemirror_mode": {
    "name": "ipython",
    "version": 3
   },
   "file_extension": ".py",
   "mimetype": "text/x-python",
   "name": "python",
   "nbconvert_exporter": "python",
   "pygments_lexer": "ipython3",
   "version": "3.11.0"
  }
 },
 "nbformat": 4,
 "nbformat_minor": 2
}
